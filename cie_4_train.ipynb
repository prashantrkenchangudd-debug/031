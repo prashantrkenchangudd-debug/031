{
  "cells": [
    {
      "cell_type": "markdown",
      "metadata": {
        "id": "view-in-github",
        "colab_type": "text"
      },
      "source": [
        "<a href=\"https://colab.research.google.com/github/prashantrkenchangudd-debug/031/blob/main/cie_4_train.ipynb\" target=\"_parent\"><img src=\"https://colab.research.google.com/assets/colab-badge.svg\" alt=\"Open In Colab\"/></a>"
      ]
    },
    {
      "cell_type": "code",
      "execution_count": null,
      "metadata": {
        "colab": {
          "base_uri": "https://localhost:8080/"
        },
        "id": "lIYdn1woOS1n",
        "outputId": "2a621513-b307-4046-8d37-1f7e09956018"
      },
      "outputs": [
        {
          "output_type": "stream",
          "name": "stdout",
          "text": [
            "Mean Squared Error: 0.19595175401255394\n"
          ]
        }
      ],
      "source": [
        "import pandas as pd\n",
        "from sklearn.model_selection import train_test_split\n",
        "from sklearn.metrics import mean_squared_error\n",
        "\n",
        "from sklearn.ensemble import RandomForestRegressor\n",
        "import xgboost as xgb\n",
        "from sklearn.linear_model import LinearRegression\n",
        "df = pd.read_csv(\"/content/train (1).csv\")\n",
        "df = df.dropna()\n",
        "df = df.select_dtypes(include=['number'])\n",
        "target = df[\"Survived\"]\n",
        "train = df.drop(\"Survived\", axis=1)\n",
        "X_train, X_test, y_train, y_test = train_test_split(train, target, test_size=0.20, random_state=42)\n",
        "model_1 = LinearRegression()\n",
        "model_2 = xgb.XGBRegressor(objective='reg:squarederror', eval_metric='rmse')\n",
        "model_3 = RandomForestRegressor()\n",
        "model_1.fit(X_train, y_train)\n",
        "model_2.fit(X_train, y_train)\n",
        "model_3.fit(X_train, y_train)\n",
        "pred_1 = model_1.predict(X_test)\n",
        "pred_2 = model_2.predict(X_test)\n",
        "pred_3 = model_3.predict(X_test)\n",
        "pred_final = (pred_1 + pred_2 + pred_3) / 3.0\n",
        "print(\"Mean Squared Error:\", mean_squared_error(y_test, pred_final))"
      ]
    }
  ],
  "metadata": {
    "colab": {
      "provenance": [],
      "include_colab_link": true
    },
    "kernelspec": {
      "display_name": "Python 3",
      "name": "python3"
    }
  },
  "nbformat": 4,
  "nbformat_minor": 0
}