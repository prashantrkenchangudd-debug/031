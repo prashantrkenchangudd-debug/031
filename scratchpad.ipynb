{
  "cells": [
    {
      "cell_type": "markdown",
      "metadata": {
        "id": "view-in-github",
        "colab_type": "text"
      },
      "source": [
        "<a href=\"https://colab.research.google.com/github/prashantrkenchangudd-debug/031/blob/main/scratchpad.ipynb\" target=\"_parent\"><img src=\"https://colab.research.google.com/assets/colab-badge.svg\" alt=\"Open In Colab\"/></a>"
      ]
    },
    {
      "cell_type": "code",
      "execution_count": 2,
      "metadata": {
        "colab": {
          "base_uri": "https://localhost:8080/"
        },
        "id": "lIYdn1woOS1n",
        "outputId": "1c884021-6ba0-41b5-da4a-5ae8eab4a871"
      },
      "outputs": [
        {
          "output_type": "stream",
          "name": "stdout",
          "text": [
            "[(AI,), (is,), (simulation,), (of,), (human,), (intelligence,), (by,), (machine,), (.,), (It,), (includes,), (expects,), (system,), (NLP,), (speech,), (recognization,), (and,), (machine,)]\n"
          ]
        }
      ],
      "source": [
        "import spacy\n",
        "from nltk import ngrams\n",
        "nlp = spacy.load(\"en_core_web_sm\")\n",
        "doc = nlp(\"AI is simulation of human intelligence by machine.It includes expects system NLP speech recognization and machine\")\n",
        "bigrams = ngrams(doc,1)\n",
        "print(list(bigrams))"
      ]
    },
    {
      "cell_type": "code",
      "source": [
        "import spacy\n",
        "from nltk import ngrams\n",
        "nlp = spacy.load(\"en_core_web_sm\")\n",
        "doc = nlp(\"AI is simulation of human intelligence by machine.It includes expects system NLP speech recognization and machine\")\n",
        "triagrams = ngrams(doc,2)\n",
        "print(list(triagrams))"
      ],
      "metadata": {
        "id": "_SM-oSMesXxr",
        "outputId": "d4a5d59f-b4b9-4ade-99fa-9d3cd73c7a4b",
        "colab": {
          "base_uri": "https://localhost:8080/"
        }
      },
      "execution_count": 3,
      "outputs": [
        {
          "output_type": "stream",
          "name": "stdout",
          "text": [
            "[(AI, is), (is, simulation), (simulation, of), (of, human), (human, intelligence), (intelligence, by), (by, machine), (machine, .), (., It), (It, includes), (includes, expects), (expects, system), (system, NLP), (NLP, speech), (speech, recognization), (recognization, and), (and, machine)]\n"
          ]
        }
      ]
    }
  ],
  "metadata": {
    "colab": {
      "name": "scratchpad",
      "provenance": [],
      "include_colab_link": true
    },
    "kernelspec": {
      "display_name": "Python 3",
      "name": "python3"
    }
  },
  "nbformat": 4,
  "nbformat_minor": 0
}