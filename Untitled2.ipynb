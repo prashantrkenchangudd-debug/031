{
  "nbformat": 4,
  "nbformat_minor": 0,
  "metadata": {
    "colab": {
      "private_outputs": true,
      "provenance": [],
      "authorship_tag": "ABX9TyOtnC5sGtZDGxIIXatc0kAZ",
      "include_colab_link": true
    },
    "kernelspec": {
      "name": "python3",
      "display_name": "Python 3"
    },
    "language_info": {
      "name": "python"
    }
  },
  "cells": [
    {
      "cell_type": "markdown",
      "metadata": {
        "id": "view-in-github",
        "colab_type": "text"
      },
      "source": [
        "<a href=\"https://colab.research.google.com/github/prashantrkenchangudd-debug/031/blob/main/Untitled2.ipynb\" target=\"_parent\"><img src=\"https://colab.research.google.com/assets/colab-badge.svg\" alt=\"Open In Colab\"/></a>"
      ]
    },
    {
      "cell_type": "code",
      "execution_count": null,
      "metadata": {
        "id": "46YCyMVGymcU"
      },
      "outputs": [],
      "source": [
        "import spacy\n",
        "from nltk import ngrams\n",
        "nlp=spacy.load(\"en_core_web_sm\")\n",
        "doc=nlp(\"AI is simulation of human intelligence by machine.It includes expects system NLP speech recognition and machine vision\")\n",
        "bigrams=ngrams(doc,1)\n",
        "print(list(bigrams))"
      ]
    },
    {
      "cell_type": "code",
      "source": [
        "import spacy\n",
        "from nltk import ngrams\n",
        "nlp=spacy.load(\"en_core_web_sm\")\n",
        "doc=nlp(\"AI is simulation of human intelligence by machine.It includes expects system NLP speech recognition and machine vision\")\n",
        "trigrams=ngrams(doc,2)\n",
        "print(list(trigrams))"
      ],
      "metadata": {
        "id": "WFj-a_g3z5Qd"
      },
      "execution_count": null,
      "outputs": []
    }
  ]
}